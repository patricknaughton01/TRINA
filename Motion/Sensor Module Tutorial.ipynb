{
 "cells": [
  {
   "cell_type": "code",
   "execution_count": 5,
   "metadata": {
    "scrolled": true
   },
   "outputs": [
    {
     "name": "stdout",
     "output_type": "stream",
     "text": [
      "Requirement already satisfied: pyyaml in /home/motion/joao_env/lib/python3.7/site-packages (5.3)\n",
      "\u001b[33mWARNING: You are using pip version 20.0.2; however, version 20.2.4 is available.\n",
      "You should consider upgrading via the '/home/motion/joao_env/bin/python3.7 -m pip install --upgrade pip' command.\u001b[0m\n",
      "3.7.6\n",
      "Requirement already satisfied: tqdm in /home/motion/joao_env/lib/python3.7/site-packages (4.46.0)\n",
      "\u001b[33mWARNING: You are using pip version 20.0.2; however, version 20.2.4 is available.\n",
      "You should consider upgrading via the '/home/motion/joao_env/bin/python3.7 -m pip install --upgrade pip' command.\u001b[0m\n",
      "Requirement already satisfied: wurlitzer in /home/motion/joao_env/lib/python3.7/site-packages (2.0.0)\n",
      "\u001b[33mWARNING: You are using pip version 20.0.2; however, version 20.2.4 is available.\n",
      "You should consider upgrading via the '/home/motion/joao_env/bin/python3.7 -m pip install --upgrade pip' command.\u001b[0m\n",
      "Requirement already satisfied: opencv-python in /home/motion/joao_env/lib/python3.7/site-packages (4.1.2.30)\n",
      "Requirement already satisfied: numpy>=1.14.5 in /home/motion/joao_env/lib/python3.7/site-packages (from opencv-python) (1.18.1)\n",
      "\u001b[33mWARNING: You are using pip version 20.0.2; however, version 20.2.4 is available.\n",
      "You should consider upgrading via the '/home/motion/joao_env/bin/python3.7 -m pip install --upgrade pip' command.\u001b[0m\n",
      "Requirement already satisfied: PyQt5 in /home/motion/joao_env/lib/python3.7/site-packages (5.14.1)\n",
      "Requirement already satisfied: PyQt5-sip<13,>=12.7 in /home/motion/joao_env/lib/python3.7/site-packages (from PyQt5) (12.7.1)\n",
      "\u001b[33mWARNING: You are using pip version 20.0.2; however, version 20.2.4 is available.\n",
      "You should consider upgrading via the '/home/motion/joao_env/bin/python3.7 -m pip install --upgrade pip' command.\u001b[0m\n"
     ]
    }
   ],
   "source": [
    "from platform import python_version\n",
    "!pip install pyyaml\n",
    "print(python_version())\n",
    "!pip install tqdm\n",
    "!pip install wurlitzer\n",
    "!pip install opencv-python\n",
    "!pip3 install PyQt5\n"
   ]
  },
  {
   "cell_type": "code",
   "execution_count": 6,
   "metadata": {},
   "outputs": [],
   "source": [
    "# import sys\n",
    "# sys.path.remove('/opt/ros/kinetic/lib/python2.7/dist-packages') # in order to import cv2 under python3\n",
    "# import cv2\n",
    "# # sys.path.append('/opt/ros/kinetic/lib/python2.7/dist-packages') # append back in order to import rospy"
   ]
  },
  {
   "cell_type": "code",
   "execution_count": 7,
   "metadata": {},
   "outputs": [],
   "source": [
    "%reload_ext wurlitzer\n",
    "\n",
    "\n",
    "import sys\n",
    "try:\n",
    "    sys.path.remove('/opt/ros/kinetic/lib/python2.7/dist-packages') # in order to import cv2 under python3\n",
    "except:\n",
    "    pass\n",
    "import atexit\n",
    "import numpy as np\n",
    "import open3d as o3d\n",
    "import pickle\n",
    "import klampt\n",
    "import numpy\n",
    "import time\n",
    "import import_ipynb\n",
    "import HW5_soln\n",
    "import vision\n",
    "import segmentation as segm\n",
    "import input_generation as ing\n",
    "\n",
    "from klampt.math import se3\n",
    "from motion_client_python3 import MotionClient\n",
    "from klampt import vis, Geometry3D\n",
    "from klampt.model import sensing\n",
    "from OpenGL.GLUT import *\n",
    "from threading import Thread\n",
    "from sensorModule2 import Camera_Robot\n",
    "from klampt import sim\n",
    "from tqdm import tqdm\n",
    "from vision import PointCloud"
   ]
  },
  {
   "cell_type": "markdown",
   "metadata": {},
   "source": [
    "# This is just Yifan´s world creation tool - copied it here so I wouldn't have to merge the repos prematurely. "
   ]
  },
  {
   "cell_type": "code",
   "execution_count": 8,
   "metadata": {
    "code_folding": [
     12
    ]
   },
   "outputs": [],
   "source": [
    "from klampt import WorldModel,Geometry3D\n",
    "from klampt import vis\n",
    "from klampt.math import so3,se3\n",
    "import trimesh\n",
    "import os\n",
    "import random\n",
    "import numpy as np\n",
    "import math\n",
    "\n",
    "model_path = '../Resources/shared_data/objects/'\n",
    "mesh_model_path = '../Resources/grasping/models/'\n",
    "\n",
    "class testingWorldBuilder():\n",
    "    def __init__(self,floor_length = 20, floor_width = 20,world = []):\n",
    "        if(world == []):\n",
    "            self.w = WorldModel()\n",
    "        else:\n",
    "            self.w = world\n",
    "        self.floor =  Geometry3D()\n",
    "        self.floor.loadFile(model_path+\"cube.off\")\n",
    "        self.floor.transform([floor_length,0,0,0,floor_width,0,0,0,0.01],[-floor_length/2.0,-floor_width/2.0,-0.01])\n",
    "        floor_terrain = self.w.makeTerrain(\"floor\")\n",
    "        floor_terrain.geometry().set(self.floor)\n",
    "        floor_terrain.appearance().setColor(0.4,0.3,0.2,1.0)\n",
    "\n",
    "        ###colors\n",
    "        self.light_blue = [3.0/255.0, 140.0/255.0, 252.0/255.0,1.0]\n",
    "        self.wall_green = [50.0/255.0, 168.0/255.0, 143.0/255.0,1.0]\n",
    "        ###sizes\n",
    "        self.table_length = 1.2\n",
    "        self.table_width = 0.8\n",
    "        self.table_top_thickness = 0.03\n",
    "        self.table_height = 0.8\n",
    "        self.leg_width = 0.05\n",
    "        self.cube_width = 0.05\n",
    "    def getWorld(self):\n",
    "        return self.w\n",
    "\n",
    "    def addTableTopScenario(self,x=0,y=0):\n",
    "        \"\"\"\n",
    "        add a table with objects on top, the center of table can be set\n",
    "        Parameters:\n",
    "        --------------\n",
    "        x,y: floats, the position of the table center\n",
    "        \"\"\"\n",
    "\n",
    "        self.addTable(x,y)\n",
    "        # add some cubes\n",
    "        self.addCube((so3.from_axis_angle(([0,0,1],0.5)),[x,y-0.7,self.table_height]),self.cube_width,[1.0,0,0,1],1)\n",
    "        # add one mesh\n",
    "        self.addRandomMesh([0+x,-1.0+y,self.table_height],1)\n",
    "        self.addRandomMesh([0+x,-1.2+y,self.table_height],2)\n",
    "        self.addRandomMesh([0.2+x,-1.0+y,self.table_height],3)\n",
    "        self.addRandomMesh([-0.2+x,-1.2+y,self.table_height],4)\n",
    "\n",
    "    def addIndoorNavScenario(self):\n",
    "        \"\"\"\n",
    "        Add 4 rooms and a table\n",
    "        \"\"\"\n",
    "\n",
    "        wall_thickness = 0.2\n",
    "        room_size = [8.0,6.0,4.0]\n",
    "        self.addRoom(room_size,wall_thickness,T=([1,0,0,0,1,0,0,0,1],[-6,-6,0]),ID = 1 )\n",
    "        self.addRoom(room_size,wall_thickness,T=([1,0,0,0,1,0,0,0,1],[6,-6,0]),ID = 2 )\n",
    "        self.addRoom(room_size,wall_thickness,T=(so3.from_axis_angle(([0,0,1],math.pi/1.0)),[6,6,0]),ID = 3 )\n",
    "        self.addRoom(room_size,wall_thickness,T=(so3.from_axis_angle(([0,0,1],math.pi/1.0)),[-6,6,0]),ID = 4 )\n",
    "        self.addTable(-6,-6)\n",
    "        return\n",
    "\n",
    "    def addRoom(self,room_size = [10.0,8.0,4.0],wall_thickness = 0.2,T=([1,0,0,0,1,0,0,0,1],[0,0,0]),ID = 1 ):\n",
    "        \"\"\"\n",
    "        Add a room to the world\n",
    "        Parameters:\n",
    "        -------------------\n",
    "        room_size = list of 3 floats, the width,depth, and height of the room\n",
    "        wall_thickess = float\n",
    "        T:rigid transform of the room\n",
    "        ID: ID of the room\n",
    "        \"\"\"\n",
    "\n",
    "        #left wall\n",
    "        self._addTerrain(model_path + \"cube.off\",se3.mul(T,([wall_thickness,0,0,0,room_size[1]-wall_thickness,0,0,0,room_size[2]],\\\n",
    "            [-room_size[0]/2.0,-room_size[1]/2.0,0])),self.wall_green,\"wall1_\"+str(ID))\n",
    "        #wall with window\n",
    "        self._addTerrain(model_path + \"cube.off\",se3.mul(T,([room_size[0],0,0,0,wall_thickness,0,0,0,1],\\\n",
    "            [-room_size[0]/2.0,-room_size[1]/2.0,0])),self.wall_green,\"wall2_\"+str(ID))\n",
    "        self._addTerrain(model_path + \"cube.off\",se3.mul(T,([room_size[0],0,0,0,wall_thickness,0,0,0,2],\\\n",
    "            [-room_size[0]/2.0,-room_size[1]/2.0,2])),self.wall_green,\"wall3_\"+str(ID))\n",
    "        self._addTerrain(model_path + \"cube.off\",se3.mul(T,([room_size[0]/2.0-0.5,0,0,0,wall_thickness,0,0,0,1],\\\n",
    "            [-room_size[0]/2.0,-room_size[1]/2.0,1])),self.wall_green,\"wall4_\"+str(ID))\n",
    "        self._addTerrain(model_path + \"cube.off\",se3.mul(T,([room_size[0]/2.0-0.5,0,0,0,wall_thickness,0,0,0,1],\\\n",
    "            [0.5,-room_size[1]/2.0,1])),self.wall_green,\"wall5_\"+str(ID))\n",
    "\n",
    "        #right wall\n",
    "        self._addTerrain(model_path + \"cube.off\",se3.mul(T,([wall_thickness,0,0,0,room_size[1]-wall_thickness,0,0,0,room_size[2]],\\\n",
    "            [room_size[0]/2.0-wall_thickness,-room_size[1]/2.0,0])),self.wall_green,\"wall6_\"+str(ID))\n",
    "\n",
    "        #the wall with door\n",
    "        self._addTerrain(model_path + \"cube.off\",se3.mul(T,([room_size[0]-2.5,0,0,0,wall_thickness,0,0,0,room_size[2]],\\\n",
    "            [-room_size[0]/2.0,room_size[1]/2.0-wall_thickness,0])),self.wall_green,\"wall7_\"+str(ID))\n",
    "        self._addTerrain(model_path + \"cube.off\",se3.mul(T,([1,0,0,0,wall_thickness,0,0,0,room_size[2]],\\\n",
    "            [-room_size[0]/2.0+(room_size[0]-1),room_size[1]/2.0-wall_thickness,0])),self.wall_green,\"wall8_\"+str(ID))\n",
    "        self._addTerrain(model_path + \"cube.off\",se3.mul(T,([1.5,0,0,0,wall_thickness,0,0,0,1],\\\n",
    "            [-room_size[0]/2.0+(room_size[0]-1-1.5),room_size[1]/2.0-wall_thickness,3])),self.wall_green,\"wall9_\"+str(ID))\n",
    "\n",
    "    ##Functions below add individual objects\n",
    "    def addCube(self,T,side_length,color,ID,object_mass = 0.1):\n",
    "        \"\"\"\n",
    "        Add a cube to the world.\n",
    "        Parameters:\n",
    "        --------------\n",
    "        T:world transform of the cube\n",
    "        side_length: float, size of the cube\n",
    "        color: RGBA values, (0-1)\n",
    "        ID: int, cannot duplicate\n",
    "        mass:object mass added at the object geometric center\n",
    "        \"\"\"\n",
    "\n",
    "        self._addRigidObject(model_path + \"cube.off\",([side_length,0,0,0,side_length,0,0,0,side_length,],[0,0,0]),T,\\\n",
    "            color,object_mass,[side_length/2.0,side_length/2.0,side_length/2.0],\"cube\"+str(ID))\n",
    "\n",
    "    def addMesh(self,path,T,color,mass,ID):\n",
    "        \"\"\"\n",
    "        Add a mesh to the world.\n",
    "        Parameters:\n",
    "        --------------\n",
    "        path: path to the mesh file\n",
    "        T:world transform of the mesh\n",
    "        color: RGBA values, (0-1)\n",
    "        mass:object mass added at the object geometric center\n",
    "        ID: int, cannot duplicate\n",
    "        \"\"\"\n",
    "        mesh = trimesh.load(path)\n",
    "        mesh_center = mesh.centroid.tolist()\n",
    "\n",
    "        # load the rigid object in the world\n",
    "        self._addRigidObject(path,([1,0,0,0,1,0,0,0,1],[0]*3),T,\\\n",
    "            color,mass,mesh_center,\"item\"+str(ID))\n",
    "\n",
    "    def addRandomMesh(self,t,ID = 1):\n",
    "        \"\"\"\n",
    "        Add a household item to the world, randonmly selected from the library.\n",
    "        Color is also determined randomly. Mass set to 1kg arbitrarily\n",
    "        Parameters:\n",
    "        --------------\n",
    "        t:world position of the mesh\n",
    "        ID: int, cannot duplicate\n",
    "        \"\"\"\n",
    "        meshpaths = []\n",
    "        for file in os.listdir(mesh_model_path):\n",
    "            if file.endswith(\".ply\"):\n",
    "                meshpaths.append(os.path.join(mesh_model_path, file))\n",
    "\n",
    "        meshpath = random.choice(meshpaths)\n",
    "        mesh = trimesh.load(meshpath)\n",
    "        mesh_center = mesh.centroid.tolist()\n",
    "        #Z_min = np.min(mesh.vertices[:,2])\n",
    "\n",
    "        #t[2] = t[2]+mesh_center[2]-Z_min\n",
    "        # load the rigid object in the world\n",
    "        self._addRigidObject(meshpath,([1,0,0,0,1,0,0,0,1],[0]*3),([1,0,0,0,1,0,0,0,1],t),\\\n",
    "            (random.random(),random.random(),random.random(),1.0),0.1,mesh_center,\"item\"+str(ID))\n",
    "\n",
    "    def addTable(self,x=0,y=0):\n",
    "        \"\"\"\n",
    "        Add a table to the world\n",
    "        Parameters:\n",
    "        --------------\n",
    "        x,y: floats, the x,y position of the center of the table\n",
    "        \"\"\"\n",
    "        table_top = Geometry3D()\n",
    "        table_leg_1 = Geometry3D()\n",
    "        table_leg_2 = Geometry3D()\n",
    "        table_leg_3 = Geometry3D()\n",
    "        table_leg_4 = Geometry3D()\n",
    "\n",
    "        table_top.loadFile(model_path + \"cube.off\")\n",
    "        table_leg_1.loadFile(model_path + \"cube.off\")\n",
    "        table_leg_2.loadFile(model_path + \"cube.off\")\n",
    "        table_leg_3.loadFile(model_path + \"cube.off\")\n",
    "        table_leg_4.loadFile(model_path + \"cube.off\")\n",
    "\n",
    "        table_top.transform([self.table_length,0,0,0,self.table_width,0,0,0,\\\n",
    "            self.table_top_thickness],[0,0,self.table_height - self.table_top_thickness])\n",
    "        table_leg_1.transform([self.leg_width,0,0,0,self.leg_width,0,0,0,self.table_height\\\n",
    "            - self.table_top_thickness],[0,0,0])\n",
    "        table_leg_2.transform([self.leg_width,0,0,0,self.leg_width,0,0,0,self.table_height - \\\n",
    "            self.table_top_thickness],[self.table_length-self.leg_width,0,0])\n",
    "        table_leg_3.transform([self.leg_width,0,0,0,self.leg_width,0,0,0,self.table_height - \n",
    "            self.table_top_thickness],[self.table_length-self.leg_width,self.table_width-self.leg_width,0])\n",
    "        table_leg_4.transform([self.leg_width,0,0,0,self.leg_width,0,0,0,self.table_height - \n",
    "            self.table_top_thickness],[0,self.table_width-self.leg_width,0])\n",
    "\n",
    "        table_geom = Geometry3D()\n",
    "        table_geom.setGroup()\n",
    "        for i,elem in enumerate([table_top,table_leg_1,table_leg_2,table_leg_3,table_leg_4]):\n",
    "            g = Geometry3D(elem)\n",
    "            table_geom.setElement(i,g)\n",
    "        table_geom.transform([0,-1,0,1,0,0,0,0,1],[x-self.table_length/2.0,y-self.table_width/2.0,0])\n",
    "        table = self.w.makeTerrain(\"table\")\n",
    "        table.geometry().set(table_geom)\n",
    "        table.appearance().setColor(self.light_blue[0],self.light_blue[1],self.light_blue[2],self.light_blue[3])\n",
    "\n",
    "    def addRobot(self,path,T):\n",
    "        \"\"\"\n",
    "        Add a robot to the world. You can directly use Klampt functions to add to the world as well\n",
    "        Parameters:\n",
    "        ------------\n",
    "        path: path to the robot model\n",
    "        T: transform of the base of the robot\n",
    "        \"\"\"\n",
    "\n",
    "        world.loadElement(path)\n",
    "        item = world.rigidObject(0)\n",
    "        item.setTransform([1,0,0,0,1,0,0,0,1],[ee_pos[0]-mesh_center[0],ee_pos[1]-mesh_center[1],-Zmin+0.02])\n",
    "\n",
    "    def _addRigidObject(self,path,T_g,T_p,color,object_mass,Com,name):\n",
    "        item_1_geom = Geometry3D()\n",
    "        item_1_geom.loadFile(path) \n",
    "        item_1_geom.transform(T_g[0],T_g[1])\n",
    "        item_1 = self.w.makeRigidObject(name)\n",
    "        item_1.geometry().set(item_1_geom)\n",
    "        item_1.appearance().setColor(color[0],color[1],color[2],color[3])\n",
    "        bmass = item_1.getMass()\n",
    "        bmass.setMass(object_mass)\n",
    "        bmass.setCom(Com)\n",
    "        item_1.setMass(bmass)\n",
    "        item_1.setTransform(T_p[0],T_p[1])\n",
    "        return item_1\n",
    "\n",
    "    def _addTerrain(self,path,T,color,name):\n",
    "        item_1_geom = Geometry3D()\n",
    "        item_1_geom.loadFile(path) \n",
    "        item_1_geom.transform(T[0],T[1])\n",
    "        item_1 = self.w.makeTerrain(name)\n",
    "        item_1.geometry().set(item_1_geom)\n",
    "        item_1.appearance().setColor(color[0],color[1],color[2],color[3])\n",
    "        return item_1\n",
    "\n",
    "# shelf = make_shelf(w,*shelf_dims)\n",
    "# shelf.geometry().translate((shelf_offset_x,shelf_offset_y,shelf_height))\n",
    "\n",
    "#vis.add(\"world\",w)\n",
    "#vis.run()\n",
    "\n",
    "# help(testingWorldBuilder)\n"
   ]
  },
  {
   "cell_type": "code",
   "execution_count": 9,
   "metadata": {
    "scrolled": true
   },
   "outputs": [
    {
     "name": "stdout",
     "output_type": "stream",
     "text": [
      "init complete\n"
     ]
    },
    {
     "ename": "ConnectionRefusedError",
     "evalue": "[Errno 111] Connection refused",
     "output_type": "error",
     "traceback": [
      "\u001b[0;31m---------------------------------------------------------------------------\u001b[0m",
      "\u001b[0;31mConnectionRefusedError\u001b[0m                    Traceback (most recent call last)",
      "\u001b[0;32m<ipython-input-9-008078daa6a5>\u001b[0m in \u001b[0;36m<module>\u001b[0;34m()\u001b[0m\n\u001b[1;32m      4\u001b[0m \u001b[0mcomponents\u001b[0m \u001b[0;34m=\u001b[0m \u001b[0;34m[\u001b[0m\u001b[0;34m]\u001b[0m\u001b[0;34m\u001b[0m\u001b[0;34m\u001b[0m\u001b[0m\n\u001b[1;32m      5\u001b[0m \u001b[0mrobot\u001b[0m \u001b[0;34m=\u001b[0m \u001b[0mMotionClient\u001b[0m\u001b[0;34m(\u001b[0m\u001b[0maddress\u001b[0m \u001b[0;34m=\u001b[0m \u001b[0;34m'http://localhost:8080'\u001b[0m\u001b[0;34m)\u001b[0m\u001b[0;34m\u001b[0m\u001b[0;34m\u001b[0m\u001b[0m\n\u001b[0;32m----> 6\u001b[0;31m \u001b[0mrobot\u001b[0m\u001b[0;34m.\u001b[0m\u001b[0mstartServer\u001b[0m\u001b[0;34m(\u001b[0m\u001b[0mmode\u001b[0m \u001b[0;34m=\u001b[0m \u001b[0mmode\u001b[0m\u001b[0;34m,\u001b[0m \u001b[0mcomponents\u001b[0m \u001b[0;34m=\u001b[0m \u001b[0mcomponents\u001b[0m\u001b[0;34m,\u001b[0m\u001b[0mcodename\u001b[0m \u001b[0;34m=\u001b[0m \u001b[0;34m'anthrax_lowpoly'\u001b[0m\u001b[0;34m)\u001b[0m\u001b[0;34m\u001b[0m\u001b[0;34m\u001b[0m\u001b[0m\n\u001b[0m\u001b[1;32m      7\u001b[0m \u001b[0mstartup\u001b[0m \u001b[0;34m=\u001b[0m \u001b[0;32mTrue\u001b[0m\u001b[0;34m\u001b[0m\u001b[0;34m\u001b[0m\u001b[0m\n\u001b[1;32m      8\u001b[0m \u001b[0mres\u001b[0m \u001b[0;34m=\u001b[0m \u001b[0mrobot\u001b[0m\u001b[0;34m.\u001b[0m\u001b[0mstartup\u001b[0m\u001b[0;34m(\u001b[0m\u001b[0;34m)\u001b[0m\u001b[0;34m\u001b[0m\u001b[0;34m\u001b[0m\u001b[0m\n",
      "\u001b[0;32m/home/motion/TRINA/Motion/motion_client_python3.py\u001b[0m in \u001b[0;36mstartServer\u001b[0;34m(self, mode, components, codename)\u001b[0m\n\u001b[1;32m     23\u001b[0m \u001b[0;34m\u001b[0m\u001b[0m\n\u001b[1;32m     24\u001b[0m         \u001b[0;32mdef\u001b[0m \u001b[0mstartServer\u001b[0m\u001b[0;34m(\u001b[0m\u001b[0mself\u001b[0m\u001b[0;34m,\u001b[0m\u001b[0mmode\u001b[0m\u001b[0;34m,\u001b[0m\u001b[0mcomponents\u001b[0m\u001b[0;34m,\u001b[0m\u001b[0mcodename\u001b[0m\u001b[0;34m)\u001b[0m\u001b[0;34m:\u001b[0m\u001b[0;34m\u001b[0m\u001b[0;34m\u001b[0m\u001b[0m\n\u001b[0;32m---> 25\u001b[0;31m                 \u001b[0mself\u001b[0m\u001b[0;34m.\u001b[0m\u001b[0ms\u001b[0m\u001b[0;34m.\u001b[0m\u001b[0mstartServer\u001b[0m\u001b[0;34m(\u001b[0m\u001b[0mmode\u001b[0m\u001b[0;34m,\u001b[0m\u001b[0mcomponents\u001b[0m\u001b[0;34m,\u001b[0m\u001b[0mcodename\u001b[0m\u001b[0;34m)\u001b[0m\u001b[0;34m\u001b[0m\u001b[0;34m\u001b[0m\u001b[0m\n\u001b[0m\u001b[1;32m     26\u001b[0m \u001b[0;34m\u001b[0m\u001b[0m\n\u001b[1;32m     27\u001b[0m         \u001b[0;32mdef\u001b[0m \u001b[0mstartup\u001b[0m\u001b[0;34m(\u001b[0m\u001b[0mself\u001b[0m\u001b[0;34m)\u001b[0m\u001b[0;34m:\u001b[0m\u001b[0;34m\u001b[0m\u001b[0;34m\u001b[0m\u001b[0m\n",
      "\u001b[0;32m/usr/lib/python3.7/xmlrpc/client.py\u001b[0m in \u001b[0;36m__call__\u001b[0;34m(self, *args)\u001b[0m\n\u001b[1;32m   1110\u001b[0m         \u001b[0;32mreturn\u001b[0m \u001b[0m_Method\u001b[0m\u001b[0;34m(\u001b[0m\u001b[0mself\u001b[0m\u001b[0;34m.\u001b[0m\u001b[0m__send\u001b[0m\u001b[0;34m,\u001b[0m \u001b[0;34m\"%s.%s\"\u001b[0m \u001b[0;34m%\u001b[0m \u001b[0;34m(\u001b[0m\u001b[0mself\u001b[0m\u001b[0;34m.\u001b[0m\u001b[0m__name\u001b[0m\u001b[0;34m,\u001b[0m \u001b[0mname\u001b[0m\u001b[0;34m)\u001b[0m\u001b[0;34m)\u001b[0m\u001b[0;34m\u001b[0m\u001b[0;34m\u001b[0m\u001b[0m\n\u001b[1;32m   1111\u001b[0m     \u001b[0;32mdef\u001b[0m \u001b[0m__call__\u001b[0m\u001b[0;34m(\u001b[0m\u001b[0mself\u001b[0m\u001b[0;34m,\u001b[0m \u001b[0;34m*\u001b[0m\u001b[0margs\u001b[0m\u001b[0;34m)\u001b[0m\u001b[0;34m:\u001b[0m\u001b[0;34m\u001b[0m\u001b[0;34m\u001b[0m\u001b[0m\n\u001b[0;32m-> 1112\u001b[0;31m         \u001b[0;32mreturn\u001b[0m \u001b[0mself\u001b[0m\u001b[0;34m.\u001b[0m\u001b[0m__send\u001b[0m\u001b[0;34m(\u001b[0m\u001b[0mself\u001b[0m\u001b[0;34m.\u001b[0m\u001b[0m__name\u001b[0m\u001b[0;34m,\u001b[0m \u001b[0margs\u001b[0m\u001b[0;34m)\u001b[0m\u001b[0;34m\u001b[0m\u001b[0;34m\u001b[0m\u001b[0m\n\u001b[0m\u001b[1;32m   1113\u001b[0m \u001b[0;34m\u001b[0m\u001b[0m\n\u001b[1;32m   1114\u001b[0m \u001b[0;31m##\u001b[0m\u001b[0;34m\u001b[0m\u001b[0;34m\u001b[0m\u001b[0;34m\u001b[0m\u001b[0m\n",
      "\u001b[0;32m/usr/lib/python3.7/xmlrpc/client.py\u001b[0m in \u001b[0;36m__request\u001b[0;34m(self, methodname, params)\u001b[0m\n\u001b[1;32m   1450\u001b[0m             \u001b[0mself\u001b[0m\u001b[0;34m.\u001b[0m\u001b[0m__handler\u001b[0m\u001b[0;34m,\u001b[0m\u001b[0;34m\u001b[0m\u001b[0;34m\u001b[0m\u001b[0m\n\u001b[1;32m   1451\u001b[0m             \u001b[0mrequest\u001b[0m\u001b[0;34m,\u001b[0m\u001b[0;34m\u001b[0m\u001b[0;34m\u001b[0m\u001b[0m\n\u001b[0;32m-> 1452\u001b[0;31m             \u001b[0mverbose\u001b[0m\u001b[0;34m=\u001b[0m\u001b[0mself\u001b[0m\u001b[0;34m.\u001b[0m\u001b[0m__verbose\u001b[0m\u001b[0;34m\u001b[0m\u001b[0;34m\u001b[0m\u001b[0m\n\u001b[0m\u001b[1;32m   1453\u001b[0m             )\n\u001b[1;32m   1454\u001b[0m \u001b[0;34m\u001b[0m\u001b[0m\n",
      "\u001b[0;32m/usr/lib/python3.7/xmlrpc/client.py\u001b[0m in \u001b[0;36mrequest\u001b[0;34m(self, host, handler, request_body, verbose)\u001b[0m\n\u001b[1;32m   1152\u001b[0m         \u001b[0;32mfor\u001b[0m \u001b[0mi\u001b[0m \u001b[0;32min\u001b[0m \u001b[0;34m(\u001b[0m\u001b[0;36m0\u001b[0m\u001b[0;34m,\u001b[0m \u001b[0;36m1\u001b[0m\u001b[0;34m)\u001b[0m\u001b[0;34m:\u001b[0m\u001b[0;34m\u001b[0m\u001b[0;34m\u001b[0m\u001b[0m\n\u001b[1;32m   1153\u001b[0m             \u001b[0;32mtry\u001b[0m\u001b[0;34m:\u001b[0m\u001b[0;34m\u001b[0m\u001b[0;34m\u001b[0m\u001b[0m\n\u001b[0;32m-> 1154\u001b[0;31m                 \u001b[0;32mreturn\u001b[0m \u001b[0mself\u001b[0m\u001b[0;34m.\u001b[0m\u001b[0msingle_request\u001b[0m\u001b[0;34m(\u001b[0m\u001b[0mhost\u001b[0m\u001b[0;34m,\u001b[0m \u001b[0mhandler\u001b[0m\u001b[0;34m,\u001b[0m \u001b[0mrequest_body\u001b[0m\u001b[0;34m,\u001b[0m \u001b[0mverbose\u001b[0m\u001b[0;34m)\u001b[0m\u001b[0;34m\u001b[0m\u001b[0;34m\u001b[0m\u001b[0m\n\u001b[0m\u001b[1;32m   1155\u001b[0m             \u001b[0;32mexcept\u001b[0m \u001b[0mhttp\u001b[0m\u001b[0;34m.\u001b[0m\u001b[0mclient\u001b[0m\u001b[0;34m.\u001b[0m\u001b[0mRemoteDisconnected\u001b[0m\u001b[0;34m:\u001b[0m\u001b[0;34m\u001b[0m\u001b[0;34m\u001b[0m\u001b[0m\n\u001b[1;32m   1156\u001b[0m                 \u001b[0;32mif\u001b[0m \u001b[0mi\u001b[0m\u001b[0;34m:\u001b[0m\u001b[0;34m\u001b[0m\u001b[0;34m\u001b[0m\u001b[0m\n",
      "\u001b[0;32m/usr/lib/python3.7/xmlrpc/client.py\u001b[0m in \u001b[0;36msingle_request\u001b[0;34m(self, host, handler, request_body, verbose)\u001b[0m\n\u001b[1;32m   1164\u001b[0m         \u001b[0;31m# issue XML-RPC request\u001b[0m\u001b[0;34m\u001b[0m\u001b[0;34m\u001b[0m\u001b[0;34m\u001b[0m\u001b[0m\n\u001b[1;32m   1165\u001b[0m         \u001b[0;32mtry\u001b[0m\u001b[0;34m:\u001b[0m\u001b[0;34m\u001b[0m\u001b[0;34m\u001b[0m\u001b[0m\n\u001b[0;32m-> 1166\u001b[0;31m             \u001b[0mhttp_conn\u001b[0m \u001b[0;34m=\u001b[0m \u001b[0mself\u001b[0m\u001b[0;34m.\u001b[0m\u001b[0msend_request\u001b[0m\u001b[0;34m(\u001b[0m\u001b[0mhost\u001b[0m\u001b[0;34m,\u001b[0m \u001b[0mhandler\u001b[0m\u001b[0;34m,\u001b[0m \u001b[0mrequest_body\u001b[0m\u001b[0;34m,\u001b[0m \u001b[0mverbose\u001b[0m\u001b[0;34m)\u001b[0m\u001b[0;34m\u001b[0m\u001b[0;34m\u001b[0m\u001b[0m\n\u001b[0m\u001b[1;32m   1167\u001b[0m             \u001b[0mresp\u001b[0m \u001b[0;34m=\u001b[0m \u001b[0mhttp_conn\u001b[0m\u001b[0;34m.\u001b[0m\u001b[0mgetresponse\u001b[0m\u001b[0;34m(\u001b[0m\u001b[0;34m)\u001b[0m\u001b[0;34m\u001b[0m\u001b[0;34m\u001b[0m\u001b[0m\n\u001b[1;32m   1168\u001b[0m             \u001b[0;32mif\u001b[0m \u001b[0mresp\u001b[0m\u001b[0;34m.\u001b[0m\u001b[0mstatus\u001b[0m \u001b[0;34m==\u001b[0m \u001b[0;36m200\u001b[0m\u001b[0;34m:\u001b[0m\u001b[0;34m\u001b[0m\u001b[0;34m\u001b[0m\u001b[0m\n",
      "\u001b[0;32m/usr/lib/python3.7/xmlrpc/client.py\u001b[0m in \u001b[0;36msend_request\u001b[0;34m(self, host, handler, request_body, debug)\u001b[0m\n\u001b[1;32m   1277\u001b[0m         \u001b[0mheaders\u001b[0m\u001b[0;34m.\u001b[0m\u001b[0mappend\u001b[0m\u001b[0;34m(\u001b[0m\u001b[0;34m(\u001b[0m\u001b[0;34m\"User-Agent\"\u001b[0m\u001b[0;34m,\u001b[0m \u001b[0mself\u001b[0m\u001b[0;34m.\u001b[0m\u001b[0muser_agent\u001b[0m\u001b[0;34m)\u001b[0m\u001b[0;34m)\u001b[0m\u001b[0;34m\u001b[0m\u001b[0;34m\u001b[0m\u001b[0m\n\u001b[1;32m   1278\u001b[0m         \u001b[0mself\u001b[0m\u001b[0;34m.\u001b[0m\u001b[0msend_headers\u001b[0m\u001b[0;34m(\u001b[0m\u001b[0mconnection\u001b[0m\u001b[0;34m,\u001b[0m \u001b[0mheaders\u001b[0m\u001b[0;34m)\u001b[0m\u001b[0;34m\u001b[0m\u001b[0;34m\u001b[0m\u001b[0m\n\u001b[0;32m-> 1279\u001b[0;31m         \u001b[0mself\u001b[0m\u001b[0;34m.\u001b[0m\u001b[0msend_content\u001b[0m\u001b[0;34m(\u001b[0m\u001b[0mconnection\u001b[0m\u001b[0;34m,\u001b[0m \u001b[0mrequest_body\u001b[0m\u001b[0;34m)\u001b[0m\u001b[0;34m\u001b[0m\u001b[0;34m\u001b[0m\u001b[0m\n\u001b[0m\u001b[1;32m   1280\u001b[0m         \u001b[0;32mreturn\u001b[0m \u001b[0mconnection\u001b[0m\u001b[0;34m\u001b[0m\u001b[0;34m\u001b[0m\u001b[0m\n\u001b[1;32m   1281\u001b[0m \u001b[0;34m\u001b[0m\u001b[0m\n",
      "\u001b[0;32m/usr/lib/python3.7/xmlrpc/client.py\u001b[0m in \u001b[0;36msend_content\u001b[0;34m(self, connection, request_body)\u001b[0m\n\u001b[1;32m   1307\u001b[0m \u001b[0;34m\u001b[0m\u001b[0m\n\u001b[1;32m   1308\u001b[0m         \u001b[0mconnection\u001b[0m\u001b[0;34m.\u001b[0m\u001b[0mputheader\u001b[0m\u001b[0;34m(\u001b[0m\u001b[0;34m\"Content-Length\"\u001b[0m\u001b[0;34m,\u001b[0m \u001b[0mstr\u001b[0m\u001b[0;34m(\u001b[0m\u001b[0mlen\u001b[0m\u001b[0;34m(\u001b[0m\u001b[0mrequest_body\u001b[0m\u001b[0;34m)\u001b[0m\u001b[0;34m)\u001b[0m\u001b[0;34m)\u001b[0m\u001b[0;34m\u001b[0m\u001b[0;34m\u001b[0m\u001b[0m\n\u001b[0;32m-> 1309\u001b[0;31m         \u001b[0mconnection\u001b[0m\u001b[0;34m.\u001b[0m\u001b[0mendheaders\u001b[0m\u001b[0;34m(\u001b[0m\u001b[0mrequest_body\u001b[0m\u001b[0;34m)\u001b[0m\u001b[0;34m\u001b[0m\u001b[0;34m\u001b[0m\u001b[0m\n\u001b[0m\u001b[1;32m   1310\u001b[0m \u001b[0;34m\u001b[0m\u001b[0m\n\u001b[1;32m   1311\u001b[0m     \u001b[0;31m##\u001b[0m\u001b[0;34m\u001b[0m\u001b[0;34m\u001b[0m\u001b[0;34m\u001b[0m\u001b[0m\n",
      "\u001b[0;32m/usr/lib/python3.7/http/client.py\u001b[0m in \u001b[0;36mendheaders\u001b[0;34m(self, message_body, encode_chunked)\u001b[0m\n\u001b[1;32m   1245\u001b[0m         \u001b[0;32melse\u001b[0m\u001b[0;34m:\u001b[0m\u001b[0;34m\u001b[0m\u001b[0;34m\u001b[0m\u001b[0m\n\u001b[1;32m   1246\u001b[0m             \u001b[0;32mraise\u001b[0m \u001b[0mCannotSendHeader\u001b[0m\u001b[0;34m(\u001b[0m\u001b[0;34m)\u001b[0m\u001b[0;34m\u001b[0m\u001b[0;34m\u001b[0m\u001b[0m\n\u001b[0;32m-> 1247\u001b[0;31m         \u001b[0mself\u001b[0m\u001b[0;34m.\u001b[0m\u001b[0m_send_output\u001b[0m\u001b[0;34m(\u001b[0m\u001b[0mmessage_body\u001b[0m\u001b[0;34m,\u001b[0m \u001b[0mencode_chunked\u001b[0m\u001b[0;34m=\u001b[0m\u001b[0mencode_chunked\u001b[0m\u001b[0;34m)\u001b[0m\u001b[0;34m\u001b[0m\u001b[0;34m\u001b[0m\u001b[0m\n\u001b[0m\u001b[1;32m   1248\u001b[0m \u001b[0;34m\u001b[0m\u001b[0m\n\u001b[1;32m   1249\u001b[0m     def request(self, method, url, body=None, headers={}, *,\n",
      "\u001b[0;32m/usr/lib/python3.7/http/client.py\u001b[0m in \u001b[0;36m_send_output\u001b[0;34m(self, message_body, encode_chunked)\u001b[0m\n\u001b[1;32m   1024\u001b[0m         \u001b[0mmsg\u001b[0m \u001b[0;34m=\u001b[0m \u001b[0;34mb\"\\r\\n\"\u001b[0m\u001b[0;34m.\u001b[0m\u001b[0mjoin\u001b[0m\u001b[0;34m(\u001b[0m\u001b[0mself\u001b[0m\u001b[0;34m.\u001b[0m\u001b[0m_buffer\u001b[0m\u001b[0;34m)\u001b[0m\u001b[0;34m\u001b[0m\u001b[0;34m\u001b[0m\u001b[0m\n\u001b[1;32m   1025\u001b[0m         \u001b[0;32mdel\u001b[0m \u001b[0mself\u001b[0m\u001b[0;34m.\u001b[0m\u001b[0m_buffer\u001b[0m\u001b[0;34m[\u001b[0m\u001b[0;34m:\u001b[0m\u001b[0;34m]\u001b[0m\u001b[0;34m\u001b[0m\u001b[0;34m\u001b[0m\u001b[0m\n\u001b[0;32m-> 1026\u001b[0;31m         \u001b[0mself\u001b[0m\u001b[0;34m.\u001b[0m\u001b[0msend\u001b[0m\u001b[0;34m(\u001b[0m\u001b[0mmsg\u001b[0m\u001b[0;34m)\u001b[0m\u001b[0;34m\u001b[0m\u001b[0;34m\u001b[0m\u001b[0m\n\u001b[0m\u001b[1;32m   1027\u001b[0m \u001b[0;34m\u001b[0m\u001b[0m\n\u001b[1;32m   1028\u001b[0m         \u001b[0;32mif\u001b[0m \u001b[0mmessage_body\u001b[0m \u001b[0;32mis\u001b[0m \u001b[0;32mnot\u001b[0m \u001b[0;32mNone\u001b[0m\u001b[0;34m:\u001b[0m\u001b[0;34m\u001b[0m\u001b[0;34m\u001b[0m\u001b[0m\n",
      "\u001b[0;32m/usr/lib/python3.7/http/client.py\u001b[0m in \u001b[0;36msend\u001b[0;34m(self, data)\u001b[0m\n\u001b[1;32m    964\u001b[0m         \u001b[0;32mif\u001b[0m \u001b[0mself\u001b[0m\u001b[0;34m.\u001b[0m\u001b[0msock\u001b[0m \u001b[0;32mis\u001b[0m \u001b[0;32mNone\u001b[0m\u001b[0;34m:\u001b[0m\u001b[0;34m\u001b[0m\u001b[0;34m\u001b[0m\u001b[0m\n\u001b[1;32m    965\u001b[0m             \u001b[0;32mif\u001b[0m \u001b[0mself\u001b[0m\u001b[0;34m.\u001b[0m\u001b[0mauto_open\u001b[0m\u001b[0;34m:\u001b[0m\u001b[0;34m\u001b[0m\u001b[0;34m\u001b[0m\u001b[0m\n\u001b[0;32m--> 966\u001b[0;31m                 \u001b[0mself\u001b[0m\u001b[0;34m.\u001b[0m\u001b[0mconnect\u001b[0m\u001b[0;34m(\u001b[0m\u001b[0;34m)\u001b[0m\u001b[0;34m\u001b[0m\u001b[0;34m\u001b[0m\u001b[0m\n\u001b[0m\u001b[1;32m    967\u001b[0m             \u001b[0;32melse\u001b[0m\u001b[0;34m:\u001b[0m\u001b[0;34m\u001b[0m\u001b[0;34m\u001b[0m\u001b[0m\n\u001b[1;32m    968\u001b[0m                 \u001b[0;32mraise\u001b[0m \u001b[0mNotConnected\u001b[0m\u001b[0;34m(\u001b[0m\u001b[0;34m)\u001b[0m\u001b[0;34m\u001b[0m\u001b[0;34m\u001b[0m\u001b[0m\n",
      "\u001b[0;32m/usr/lib/python3.7/http/client.py\u001b[0m in \u001b[0;36mconnect\u001b[0;34m(self)\u001b[0m\n\u001b[1;32m    936\u001b[0m         \u001b[0;34m\"\"\"Connect to the host and port specified in __init__.\"\"\"\u001b[0m\u001b[0;34m\u001b[0m\u001b[0;34m\u001b[0m\u001b[0m\n\u001b[1;32m    937\u001b[0m         self.sock = self._create_connection(\n\u001b[0;32m--> 938\u001b[0;31m             (self.host,self.port), self.timeout, self.source_address)\n\u001b[0m\u001b[1;32m    939\u001b[0m         \u001b[0mself\u001b[0m\u001b[0;34m.\u001b[0m\u001b[0msock\u001b[0m\u001b[0;34m.\u001b[0m\u001b[0msetsockopt\u001b[0m\u001b[0;34m(\u001b[0m\u001b[0msocket\u001b[0m\u001b[0;34m.\u001b[0m\u001b[0mIPPROTO_TCP\u001b[0m\u001b[0;34m,\u001b[0m \u001b[0msocket\u001b[0m\u001b[0;34m.\u001b[0m\u001b[0mTCP_NODELAY\u001b[0m\u001b[0;34m,\u001b[0m \u001b[0;36m1\u001b[0m\u001b[0;34m)\u001b[0m\u001b[0;34m\u001b[0m\u001b[0;34m\u001b[0m\u001b[0m\n\u001b[1;32m    940\u001b[0m \u001b[0;34m\u001b[0m\u001b[0m\n",
      "\u001b[0;32m/usr/lib/python3.7/socket.py\u001b[0m in \u001b[0;36mcreate_connection\u001b[0;34m(address, timeout, source_address)\u001b[0m\n\u001b[1;32m    726\u001b[0m     \u001b[0;32mif\u001b[0m \u001b[0merr\u001b[0m \u001b[0;32mis\u001b[0m \u001b[0;32mnot\u001b[0m \u001b[0;32mNone\u001b[0m\u001b[0;34m:\u001b[0m\u001b[0;34m\u001b[0m\u001b[0;34m\u001b[0m\u001b[0m\n\u001b[1;32m    727\u001b[0m         \u001b[0;32mtry\u001b[0m\u001b[0;34m:\u001b[0m\u001b[0;34m\u001b[0m\u001b[0;34m\u001b[0m\u001b[0m\n\u001b[0;32m--> 728\u001b[0;31m             \u001b[0;32mraise\u001b[0m \u001b[0merr\u001b[0m\u001b[0;34m\u001b[0m\u001b[0;34m\u001b[0m\u001b[0m\n\u001b[0m\u001b[1;32m    729\u001b[0m         \u001b[0;32mfinally\u001b[0m\u001b[0;34m:\u001b[0m\u001b[0;34m\u001b[0m\u001b[0;34m\u001b[0m\u001b[0m\n\u001b[1;32m    730\u001b[0m             \u001b[0;31m# Break explicitly a reference cycle\u001b[0m\u001b[0;34m\u001b[0m\u001b[0;34m\u001b[0m\u001b[0;34m\u001b[0m\u001b[0m\n",
      "\u001b[0;32m/usr/lib/python3.7/socket.py\u001b[0m in \u001b[0;36mcreate_connection\u001b[0;34m(address, timeout, source_address)\u001b[0m\n\u001b[1;32m    714\u001b[0m             \u001b[0;32mif\u001b[0m \u001b[0msource_address\u001b[0m\u001b[0;34m:\u001b[0m\u001b[0;34m\u001b[0m\u001b[0;34m\u001b[0m\u001b[0m\n\u001b[1;32m    715\u001b[0m                 \u001b[0msock\u001b[0m\u001b[0;34m.\u001b[0m\u001b[0mbind\u001b[0m\u001b[0;34m(\u001b[0m\u001b[0msource_address\u001b[0m\u001b[0;34m)\u001b[0m\u001b[0;34m\u001b[0m\u001b[0;34m\u001b[0m\u001b[0m\n\u001b[0;32m--> 716\u001b[0;31m             \u001b[0msock\u001b[0m\u001b[0;34m.\u001b[0m\u001b[0mconnect\u001b[0m\u001b[0;34m(\u001b[0m\u001b[0msa\u001b[0m\u001b[0;34m)\u001b[0m\u001b[0;34m\u001b[0m\u001b[0;34m\u001b[0m\u001b[0m\n\u001b[0m\u001b[1;32m    717\u001b[0m             \u001b[0;31m# Break explicitly a reference cycle\u001b[0m\u001b[0;34m\u001b[0m\u001b[0;34m\u001b[0m\u001b[0;34m\u001b[0m\u001b[0m\n\u001b[1;32m    718\u001b[0m             \u001b[0merr\u001b[0m \u001b[0;34m=\u001b[0m \u001b[0;32mNone\u001b[0m\u001b[0;34m\u001b[0m\u001b[0;34m\u001b[0m\u001b[0m\n",
      "\u001b[0;31mConnectionRefusedError\u001b[0m: [Errno 111] Connection refused"
     ]
    }
   ],
   "source": [
    "from TRINAConfig import *\n",
    "\n",
    "mode = 'Kinematic'\n",
    "components = []\n",
    "robot = MotionClient(address = 'http://localhost:8080')\n",
    "robot.startServer(mode = mode, components = components,codename = 'anthrax_lowpoly')\n",
    "startup = True\n",
    "res = robot.startup()\n",
    "time.sleep(1)\n",
    "world = WorldModel()\n",
    "world.readFile('./data/TRINA_world_anthrax_lowpoly.xml')\n",
    "visualization_robot = world.robot(0)\n",
    "builder = testingWorldBuilder(30,30,world = world)\n",
    "builder.addTableTopScenario(x = 1.5,y = 1.0)\n",
    "world = builder.getWorld()\n",
    "\n",
    "# vis.add('world',world)\n",
    "# vis.show()\n",
    "leftUntuckedConfig = [-0.2028,-2.1063,-1.610,3.7165,-0.9622,0.0974]\n",
    "rightUntuckedConfig = robot.mirror_arm_config(leftUntuckedConfig)\n",
    "robot.setLeftLimbPositionLinear(leftUntuckedConfig,2)\n",
    "robot.setRightLimbPositionLinear(rightUntuckedConfig,2)\n",
    "print('gets here')\n",
    "\n",
    "# while vis.shown():\n",
    "#     vis.lock()\n",
    "#     #update the visualization robot configuration\n",
    "#     ll = robot.sensedLeftLimbPosition()\n",
    "#     rl = robot.sensedRightLimbPosition()\n",
    "#     base = robot.sensedBasePosition()\n",
    "#     current_config = get_klampt_model_q('anthrax_lowpoly',left_limb = ll,right_limb = rl,base = base)\n",
    "#     visualization_robot.setConfig(current_config)\n",
    "#     vis.unlock()\n",
    "#     time.sleep(0.03)\n",
    "    \n",
    "# vis.kill()\n",
    "\n",
    "\n",
    "\n",
    "\n",
    "\n",
    "# #right\n",
    "# time.sleep(2.0)\n",
    "# leftEETransform = robot.sensedLeftEETransform()\n",
    "# leftEETransform[1][2] = leftEETransform[1][2] + 0.5\n",
    "# robot.setLeftEEInertialTransform(leftEETransform, 1.0)\n",
    "# time.sleep(1.0)\n",
    "# q = robot.sensedLeftLimbPosition()\n",
    "\n",
    "# robot.shutdown()\n",
    "\n",
    "\n",
    "\n",
    "\n",
    "\n",
    "# Target = [[1.0, 0.0, 0.0, 0.0, 1.0, 0.0, 0.0, 0.0 ,1.0], [0.5, 0.0, self.table_height]]\n",
    "# leftUntuckedConfig2 = setLeftEEInertialTransform(Target, 1.0)\n",
    "\n",
    "# # leftUntuckedConfig2 = [-0.2028,-2.1063,-1.610,3.7165,-0.9622,0.0974]\n",
    "# rightUntuckedConfig2 = robot.mirror_arm_config(leftUntuckedConfig2)\n",
    "# #robot.setLeftLimbPositionLinear(leftUntuckedConfig2,2)\n",
    "# robot.setRightLimbPositionLinear(rightUntuckedConfig2,2)\n"
   ]
  },
  {
   "cell_type": "code",
   "execution_count": null,
   "metadata": {
    "scrolled": true
   },
   "outputs": [],
   "source": [
    "\n",
    "\n",
    "# global crobot\n",
    "crobot = Camera_Robot(robot = robot,world = world)\n",
    "\n",
    "# after starting the sensor module, we then refresh our motion_client to avoid conflics:\n",
    "robot2 = MotionClient(address = 'http://localhost:8080')\n",
    "\n",
    "#robot2.setLeftLimbPositionLinear([0,0,0,0,0,0],1)\n",
    "\n",
    "\n",
    "\n"
   ]
  },
  {
   "cell_type": "code",
   "execution_count": null,
   "metadata": {
    "scrolled": true
   },
   "outputs": [],
   "source": [
    "%matplotlib \n",
    "#calling it a second time may prevent some graphics errors\n",
    "%matplotlib   \n",
    "\n",
    "\n",
    "from matplotlib import pyplot as  plt\n",
    "import matplotlib.animation as animation\n",
    "\n",
    "def visualize_sensor_feeds():\n",
    "    \n",
    "    fig = plt.figure()\n",
    "\n",
    "    a = crobot.get_rgbd_images()\n",
    "\n",
    "\n",
    "    # im = plt.imshow(a['realsense_left'][0], animated=True)\n",
    "\n",
    "    #create two subplots\n",
    "    ax1 = plt.subplot(1,2,1)\n",
    "    ax2 = plt.subplot(1,2,2)\n",
    "\n",
    "    im1 = ax1.imshow(a['realsense_left'][0],animated = True)\n",
    "    im2 = ax2.imshow(a['realsense_right'][0],animated = True)\n",
    "\n",
    "\n",
    "    def updatefig(*args):\n",
    "        global crobot\n",
    "        try:\n",
    "            a = crobot.get_rgbd_images()\n",
    "            im1.set_array(a['realsense_left'][0])\n",
    "            im2.set_array(a['realsense_right'][0])\n",
    "            print('updating')\n",
    "            return im1,im2\n",
    "        except Exception as e:\n",
    "            print(e)\n",
    "\n",
    "    ani = animation.FuncAnimation(fig, updatefig, interval=100, blit=True)\n",
    "    plt.show()\n",
    "    return ani\n",
    "# help(Camera_Robot)"
   ]
  },
  {
   "cell_type": "code",
   "execution_count": null,
   "metadata": {},
   "outputs": [],
   "source": [
    "## call this function before executing your commands and you will be able to see the \"live \" feed from your ca\n",
    "## mera sensors.\n",
    "#visualize_sensor_feeds()"
   ]
  },
  {
   "cell_type": "code",
   "execution_count": null,
   "metadata": {},
   "outputs": [],
   "source": [
    "a = crobot.get_rgbd_images()\n",
    "depth_image = a['realsense_left'][1]"
   ]
  },
  {
   "cell_type": "code",
   "execution_count": 9,
   "metadata": {},
   "outputs": [
    {
     "data": {
      "text/plain": [
       "''"
      ]
     },
     "execution_count": 9,
     "metadata": {},
     "output_type": "execute_result"
    }
   ],
   "source": [
    "time.sleep(2.0)\n",
    "temp = robot2.sensedLeftEETransform()\n",
    "temp[1][2] = temp[1][2] + 0.2\n",
    "robot2.setLeftEEInertialTransform(temp, 1.0)"
   ]
  },
  {
   "cell_type": "code",
   "execution_count": 10,
   "metadata": {},
   "outputs": [
    {
     "data": {
      "text/plain": [
       "0"
      ]
     },
     "execution_count": 10,
     "metadata": {},
     "output_type": "execute_result"
    }
   ],
   "source": [
    "temp = robot2.sensedLeftEETransform()\n",
    "leftEETransform = [[0.866025,0,-0.5,0,1,0,0.5,0,0.866025],[temp[1][0],temp[1][1],temp[1][2]]]  #rotate 30deg\n",
    "#leftEETransform[1][2] = leftEETransform[1][2]+0.3\n",
    "robot2.setLeftEEInertialTransform(leftEETransform, 1.0)\n",
    "\n",
    "time.sleep(2.0)\n",
    "q = robot2.sensedLeftLimbPosition()\n",
    "\n",
    "p = robot.mirror_arm_config(q)\n",
    "robot2.setRightLimbPositionLinear(p,1.0)"
   ]
  },
  {
   "cell_type": "code",
   "execution_count": 11,
   "metadata": {},
   "outputs": [],
   "source": [
    "# robot2.setLeftLimbPositionLinear([0,0,0,0,0,0],5)\n",
    "# robot2.setRightLimbPositionLinear([0,0,0,0,0,0],5)"
   ]
  },
  {
   "cell_type": "code",
   "execution_count": 12,
   "metadata": {
    "scrolled": true
   },
   "outputs": [
    {
     "data": {
      "text/plain": [
       "0"
      ]
     },
     "execution_count": 12,
     "metadata": {},
     "output_type": "execute_result"
    }
   ],
   "source": [
    "leftUntuckedConfig[-1] =2.4\n",
    "rightUntuckedConfig[-1] = -2.4\n",
    "robot2.setLeftLimbPositionLinear(leftUntuckedConfig,5)\n",
    "robot2.setRightLimbPositionLinear(rightUntuckedConfig,5)\n"
   ]
  },
  {
   "cell_type": "code",
   "execution_count": 13,
   "metadata": {},
   "outputs": [],
   "source": [
    "# a = crobot.get_rgbd_images()\n",
    "# plt.imshow(a['realsense_left'][0])\n",
    "# plt.show()"
   ]
  },
  {
   "cell_type": "code",
   "execution_count": 14,
   "metadata": {},
   "outputs": [
    {
     "data": {
      "text/plain": [
       "True"
      ]
     },
     "execution_count": 14,
     "metadata": {},
     "output_type": "execute_result"
    }
   ],
   "source": [
    "b = crobot.get_point_clouds()\n",
    "o3d.io.write_point_cloud(\"sample_table.pcd\", b['realsense_right'])\n",
    "#help(crobot.get_point_clouds)\n",
    "#print(type(crobot)\n",
    "\n",
    "#B_PointCloud = PointCloud(b)\n",
    "\n",
    "# data = list(b.items())\n",
    "# point_clouds_array = np.array(data,dtype=float)\n",
    "# #print(type(point_clouds_array))\n",
    "# B_PointCloud = PointCloud(point_clouds_array)\n",
    "# bplane = B_PointCloud.extract_plane()\n",
    "# o3d.visualization.draw_geometries([b['realsense_right']])\n",
    "# bplane = segm.plane_extraction(b['realsense_right'])\n",
    "\n",
    "#print(np.asarray(b['realsense_right'].points))\n",
    "#print(np.min(np.asarray(b['realsense_right'].points)[:,2]))\n",
    "\n",
    "#mesh_frame = o3d.geometry.TriangleMesh.create_coordinate_frame(\n",
    "        #size=0.6, origin=[0,0,0])\n",
    "#o3d.visualization.draw_geometries([b['realsense_right'],mesh_frame])\n",
    "# for i in range(50):\n",
    "#     print(bplane[i*int(len(bplane)/51)])"
   ]
  },
  {
   "cell_type": "code",
   "execution_count": null,
   "metadata": {
    "scrolled": true
   },
   "outputs": [],
   "source": [
    "leftUntuckedConfig = [-0.2028,-2.1063,-1.610,3.7165,-0.9622,0.0974]\n",
    "rightUntuckedConfig = robot.mirror_arm_config(leftUntuckedConfig)\n",
    "# print('right_Untucked',rightUntuckedConfig)\n",
    "# robot.setLeftLimbPositionLinear(leftUntuckedConfig,2)\n",
    "# robot.setRightLimbPositionLinear(rightUntuckedConfig,2)\n",
    "for i in tqdm(range(300)):\n",
    "    a = crobot.get_rgbd_images()\n",
    "    plt.imshow(a['realsense_left'][0])\n",
    "    plt.show()"
   ]
  },
  {
   "cell_type": "code",
   "execution_count": null,
   "metadata": {
    "scrolled": true
   },
   "outputs": [],
   "source": [
    "a = crobot.get_rgbd_images()\n",
    "plt.imshow(a['realsense_left'][0])\n",
    "plt.show()"
   ]
  },
  {
   "cell_type": "code",
   "execution_count": null,
   "metadata": {},
   "outputs": [],
   "source": [
    "\n",
    "# robot.sensedLeftEETransform()"
   ]
  },
  {
   "cell_type": "code",
   "execution_count": null,
   "metadata": {},
   "outputs": [],
   "source": [
    "a['realsense_left'][0]"
   ]
  },
  {
   "cell_type": "code",
   "execution_count": null,
   "metadata": {},
   "outputs": [],
   "source": []
  },
  {
   "cell_type": "markdown",
   "metadata": {},
   "source": [
    "# Mesh Experiments"
   ]
  },
  {
   "cell_type": "code",
   "execution_count": null,
   "metadata": {},
   "outputs": [],
   "source": [
    "mesh_frame = o3d.geometry.TriangleMesh.create_coordinate_frame(\n",
    "        size=0.6, origin=[0,0,0])\n",
    "o3d.visualization.draw_geometries([mesh_frame])\n"
   ]
  },
  {
   "cell_type": "code",
   "execution_count": null,
   "metadata": {},
   "outputs": [],
   "source": [
    "crobot.Rtranslation"
   ]
  }
 ],
 "metadata": {
  "kernelspec": {
   "display_name": "joao_env",
   "language": "python",
   "name": "joao_env"
  },
  "toc": {
   "base_numbering": 1,
   "nav_menu": {},
   "number_sections": true,
   "sideBar": true,
   "skip_h1_title": false,
   "title_cell": "Table of Contents",
   "title_sidebar": "Contents",
   "toc_cell": false,
   "toc_position": {},
   "toc_section_display": true,
   "toc_window_display": false
  },
  "varInspector": {
   "cols": {
    "lenName": 16,
    "lenType": 16,
    "lenVar": 40
   },
   "kernels_config": {
    "python": {
     "delete_cmd_postfix": "",
     "delete_cmd_prefix": "del ",
     "library": "var_list.py",
     "varRefreshCmd": "print(var_dic_list())"
    },
    "r": {
     "delete_cmd_postfix": ") ",
     "delete_cmd_prefix": "rm(",
     "library": "var_list.r",
     "varRefreshCmd": "cat(var_dic_list()) "
    }
   },
   "types_to_exclude": [
    "module",
    "function",
    "builtin_function_or_method",
    "instance",
    "_Feature"
   ],
   "window_display": false
  }
 },
 "nbformat": 4,
 "nbformat_minor": 4
}
